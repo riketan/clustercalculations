{
 "cells": [
  {
   "cell_type": "markdown",
   "metadata": {},
   "source": [
    "# <font color=blue> Cluster Source Deposition Calculations </font>"
   ]
  },
  {
   "cell_type": "code",
   "execution_count": 23,
   "metadata": {},
   "outputs": [],
   "source": [
    "# Import relevant packages\n",
    "import numpy as np \n",
    "import os  # This specifies the name as os by default if no other name is given\n",
    "import matplotlib.pyplot as plt # or use 'from matplotlib.pyplot import plot' to only import that part, \n",
    "                                # and then can just use 'plot' by itself\n",
    "import math"
   ]
  },
  {
   "cell_type": "markdown",
   "metadata": {},
   "source": [
    "# <font color=green> NP diameter and Mass in amu </font>"
   ]
  },
  {
   "cell_type": "markdown",
   "metadata": {},
   "source": [
    "## Calculate mass in amu from nanoparticle diameter\n",
    "### - Enter density of the metal deposited and desired nanoparticle diameter"
   ]
  },
  {
   "cell_type": "code",
   "execution_count": 15,
   "metadata": {},
   "outputs": [],
   "source": [
    "# bulk density of the metal\n",
    "density = 19.32 # g/cm3  # density for Pt: 21.45 g/cm3 , Au: 19.32, Ti: 4.5, AuTi av: 11.9, Cu: 8.96 g/cm³\n",
    "\n",
    "# desired particle size (diameter)\n",
    "diameter = 2.1 # nm"
   ]
  },
  {
   "cell_type": "code",
   "execution_count": 16,
   "metadata": {},
   "outputs": [
    {
     "name": "stdout",
     "output_type": "stream",
     "text": [
      "The mass of a NP with diameter 2.1 nm, is 56425.22088373147 amu\n"
     ]
    }
   ],
   "source": [
    "D = (density/1000)*(10**6) # density in kg/m3\n",
    "r = diameter/2 # nm\n",
    "V = ((4/3)*math.pi)*(r*10**(-9))**3 # m^3\n",
    "mass = D*V # kg\n",
    "amukg = 1.6603145*10**(-27) #kg\n",
    "Mass_amu = mass/amukg\n",
    "\n",
    "print('The mass of a NP with diameter',diameter,'nm, is', Mass_amu,'amu')"
   ]
  },
  {
   "cell_type": "markdown",
   "metadata": {},
   "source": [
    "## Calculate nanoparticle diameter from mass in amu\n",
    "### - Enter density of the metal deposited and the mass in amu"
   ]
  },
  {
   "cell_type": "code",
   "execution_count": 17,
   "metadata": {},
   "outputs": [],
   "source": [
    "# bulk density of the metal\n",
    "density = 19.32 # g/cm3\n",
    "\n",
    "mass = 1675000 # in amu"
   ]
  },
  {
   "cell_type": "code",
   "execution_count": 18,
   "metadata": {},
   "outputs": [
    {
     "name": "stdout",
     "output_type": "stream",
     "text": [
      "The diameter of a NP with mass 1675000 amu, is 6.502292109915446 nm\n"
     ]
    }
   ],
   "source": [
    "D = (density/1000)*(10**6) # density in kg/m3\n",
    "amukg = 1.6603145*10**(-27) #kg\n",
    "Mass_kg = mass*amukg\n",
    "V = Mass_kg/D # in m^-3\n",
    "r = ((3*V)/(4*math.pi))**(1/3)\n",
    "diameter = (2*r)*10**9\n",
    "\n",
    "print('The diameter of a NP with mass',mass,'amu, is', diameter,'nm')"
   ]
  },
  {
   "cell_type": "markdown",
   "metadata": {},
   "source": [
    "## Calculate the number of atoms in a nanoparticle\n",
    "### - Enter nanoparticle mass and the mass of 1 atom in amu"
   ]
  },
  {
   "cell_type": "code",
   "execution_count": 19,
   "metadata": {},
   "outputs": [],
   "source": [
    "# bulk density of the meta\n",
    "atom_mass = 196.96657 # in amu\n",
    "mass = 1675000 # in amu"
   ]
  },
  {
   "cell_type": "code",
   "execution_count": 20,
   "metadata": {},
   "outputs": [
    {
     "name": "stdout",
     "output_type": "stream",
     "text": [
      "number of Au atoms 8503.981157817796\n"
     ]
    }
   ],
   "source": [
    "Au_atoms = mass/atom_mass\n",
    "\n",
    "print('number of Au atoms',Au_atoms)"
   ]
  },
  {
   "cell_type": "markdown",
   "metadata": {},
   "source": [
    "# <font color=green> NP coverage calculation </font>"
   ]
  },
  {
   "cell_type": "markdown",
   "metadata": {},
   "source": [
    "## Calculate the % of the sample surface covered by NPs, and number of NPs deposited\n",
    "### - Enter NP diameter, deposition current, total deposition time, area covered by beam, and area of sample"
   ]
  },
  {
   "cell_type": "code",
   "execution_count": 21,
   "metadata": {},
   "outputs": [],
   "source": [
    "# Diameter of NPs deposited\n",
    "NPdia = 6.5 # nm\n",
    "\n",
    "# deposition current\n",
    "Idep = 1.49e-10 - 1.42e-10 # current measured in C/s.\n",
    "\n",
    "# total time of deposition\n",
    "Tdep = 2800 # time deposited in s.\n",
    "\n",
    "# diameter of area covered by the beam - depends on raster pattern selected. \n",
    "deff = 9.46 # diameter of deposited area in mm"
   ]
  },
  {
   "cell_type": "code",
   "execution_count": 22,
   "metadata": {},
   "outputs": [
    {
     "name": "stdout",
     "output_type": "stream",
     "text": [
      "The coverage of nanoparticles on the sample is 5.776143845420173 %\n"
     ]
    }
   ],
   "source": [
    "# Total area covered by beam\n",
    "Acover = (((deff/2)*10**(-3))**2)*math.pi # area covered by beam in m^2\n",
    "\n",
    "# Total charge deposited \n",
    "Ctotal = Idep*Tdep # Total charge deposited on sample and holder in Coulombs\n",
    "\n",
    "# Number of nanoparticles this corresponds to. Each nanoparticle has a charge of e (one elementary charge)\n",
    "e = 1.602*10**(-19)\n",
    "NoNPs = Ctotal/e\n",
    "\n",
    "# Area of one nanoparticle\n",
    "r = (NPdia/2)*10**(-9) # m\n",
    "area_NP = math.pi*r**2 # m^2\n",
    "\n",
    "# Coverage achieved\n",
    "NP_coverage = ((area_NP*NoNPs)/Acover)*100\n",
    "\n",
    "print('The coverage of nanoparticles on the sample is',NP_coverage,'%')\n",
    "\n",
    "# The coverage scales, so within the area of the sample, there is the same % coverage\n"
   ]
  },
  {
   "cell_type": "markdown",
   "metadata": {},
   "source": [
    "## Calculate the time for a deposition in order to reach the desired % coverage \n",
    "### - Enter NP diameter, deposition current, area covered by beam, area of sample and desired coverage"
   ]
  },
  {
   "cell_type": "code",
   "execution_count": 4,
   "metadata": {},
   "outputs": [],
   "source": [
    "# Diameter of NPs deposited\n",
    "NPdia = 2.2 # nm\n",
    "\n",
    "# deposition current\n",
    "Idep = 1.78*10**(-10) - 1.72*10**(-10) # current measured in C/s.\n",
    "\n",
    "# diameter of area covered by the beam - depends on raster pattern selected. \n",
    "deff = 9.46 # diameter of deposited area in mm\n",
    "\n",
    "# diameter of sample (assuming circular sample)\n",
    "# for stubs, dsample = 5mm. For microreactors, samples are 9mm\n",
    "dsample = 9.46 # diameter of sample in mm\n",
    "\n",
    "# Coverage desired in %\n",
    "Coverage = 5 # enter desired coverage in %"
   ]
  },
  {
   "cell_type": "code",
   "execution_count": 5,
   "metadata": {},
   "outputs": [
    {
     "name": "stdout",
     "output_type": "stream",
     "text": [
      "The time required to reach a 5 % coverage is 24684.149999999983 seconds, or 411 minutes and 24.149999999983265 seconds\n"
     ]
    }
   ],
   "source": [
    "# Total area covered by beam\n",
    "Acover = (((deff/2)*10**(-3))**2)*math.pi # area covered by beam in m^2\n",
    "\n",
    "# Area of one nanoparticle\n",
    "r = (NPdia/2)*10**(-9) # m\n",
    "area_NP = math.pi*r**2 # m^2\n",
    "\n",
    "# Number of nanoparticles required to obtained stated coverage\n",
    "NoNPs = (Coverage*Acover)/(100*area_NP) \n",
    "\n",
    "# Total charge that this corresponds to \n",
    "e = 1.602*10**(-19)\n",
    "Ctotal = NoNPs*e\n",
    "\n",
    "# Time required to deposit this charge\n",
    "Tdep = Ctotal/Idep \n",
    "Tdep_min = math.floor(Tdep/60)\n",
    "Tdep_sec = Tdep-(Tdep_min*60)\n",
    "\n",
    "print('The time required to reach a',Coverage,'% coverage is',Tdep,'seconds, or',Tdep_min,'minutes and',Tdep_sec,'seconds')"
   ]
  },
  {
   "cell_type": "markdown",
   "metadata": {},
   "source": [
    "# <font color=green> Equivalent loading in ng/cm2 </font>"
   ]
  },
  {
   "cell_type": "code",
   "execution_count": 11,
   "metadata": {},
   "outputs": [
    {
     "name": "stdout",
     "output_type": "stream",
     "text": [
      "There are  519689610095.9847  NPs in 1cm^2\n",
      "The mass loading is  48.31034615452273  ng/cm2\n"
     ]
    }
   ],
   "source": [
    "# mass of deposited particles \n",
    "mass = 56000 # in amu\n",
    "\n",
    "# NP diamater\n",
    "NPdia = 2.10\n",
    "\n",
    "# Coverage in %\n",
    "cov = 1.8\n",
    "\n",
    "NPradius = NPdia/2 # in nm\n",
    "# How many NPs are in an area of 1 cm2? \n",
    "NP_area_cm2 = 1*(cov/100)*0.01*0.01 # area of all the NPs in 1cm2\n",
    "single_NP_area = math.pi*(NPradius*10**(-9))**2 # area of 1 NP in m2\n",
    "No_NPs_1area = NP_area_cm2/single_NP_area\n",
    "print('There are ',No_NPs_1area,' NPs in 1cm^2')\n",
    "\n",
    "# What's the mass of 1 NP in nanograms?\n",
    "NPmass = (mass*1.66*10**(-27)*1000)*(10**9) # mass in ng\n",
    "\n",
    "# So what's the mass in ng per cm2? \n",
    "Mass_loading = No_NPs_1area*NPmass\n",
    "print('The mass loading is ',Mass_loading,' ng/cm2')"
   ]
  },
  {
   "cell_type": "markdown",
   "metadata": {},
   "source": [
    "# <font color=green> Loading and coverage from AFM image </font>"
   ]
  },
  {
   "cell_type": "code",
   "execution_count": 24,
   "metadata": {},
   "outputs": [
    {
     "name": "stdout",
     "output_type": "stream",
     "text": [
      "220 NPs in this area, is a coverage of  2.699806186678728 %\n"
     ]
    }
   ],
   "source": [
    "imsize = 200*10**(-9)*200*10**(-9) # in m2\n",
    "noNPs = 220 # number of NPs counted in the image\n",
    "NPdia = 2.5*10**(-9) # NP diameter in m\n",
    "\n",
    "areaNP = math.pi*(NPdia/2)**2\n",
    "TotalNParea = areaNP*noNPs\n",
    "\n",
    "Im_coverage = (TotalNParea/imsize)*100\n",
    "\n",
    "print(noNPs, 'NPs in this area, is a coverage of ', Im_coverage, '%');\n",
    "\n"
   ]
  }
 ],
 "metadata": {
  "kernelspec": {
   "display_name": "Python 3 (ipykernel)",
   "language": "python",
   "name": "python3"
  },
  "language_info": {
   "codemirror_mode": {
    "name": "ipython",
    "version": 3
   },
   "file_extension": ".py",
   "mimetype": "text/x-python",
   "name": "python",
   "nbconvert_exporter": "python",
   "pygments_lexer": "ipython3",
   "version": "3.9.12"
  }
 },
 "nbformat": 4,
 "nbformat_minor": 4
}
